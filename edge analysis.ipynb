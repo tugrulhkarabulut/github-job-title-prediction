{
 "cells": [
  {
   "cell_type": "code",
   "execution_count": 1,
   "id": "ee7931fe",
   "metadata": {},
   "outputs": [],
   "source": [
    "import pandas as pd\n",
    "from utils import load_data\n",
    "import config as cfg"
   ]
  },
  {
   "cell_type": "code",
   "execution_count": 2,
   "id": "6e5afba5",
   "metadata": {},
   "outputs": [],
   "source": [
    "edges = load_data(cfg.USER_ORIG_RELATIONS_FILE, format='pandas')"
   ]
  },
  {
   "cell_type": "code",
   "execution_count": 3,
   "id": "e2d23d88",
   "metadata": {},
   "outputs": [
    {
     "data": {
      "text/html": [
       "<div>\n",
       "<style scoped>\n",
       "    .dataframe tbody tr th:only-of-type {\n",
       "        vertical-align: middle;\n",
       "    }\n",
       "\n",
       "    .dataframe tbody tr th {\n",
       "        vertical-align: top;\n",
       "    }\n",
       "\n",
       "    .dataframe thead th {\n",
       "        text-align: right;\n",
       "    }\n",
       "</style>\n",
       "<table border=\"1\" class=\"dataframe\">\n",
       "  <thead>\n",
       "    <tr style=\"text-align: right;\">\n",
       "      <th></th>\n",
       "      <th>following</th>\n",
       "      <th>follow</th>\n",
       "    </tr>\n",
       "  </thead>\n",
       "  <tbody>\n",
       "    <tr>\n",
       "      <th>0</th>\n",
       "      <td>batin</td>\n",
       "      <td>gokmen</td>\n",
       "    </tr>\n",
       "    <tr>\n",
       "      <th>1</th>\n",
       "      <td>batin</td>\n",
       "      <td>samet</td>\n",
       "    </tr>\n",
       "    <tr>\n",
       "      <th>2</th>\n",
       "      <td>batin</td>\n",
       "      <td>vigo</td>\n",
       "    </tr>\n",
       "    <tr>\n",
       "      <th>3</th>\n",
       "      <td>batin</td>\n",
       "      <td>muratcorlu</td>\n",
       "    </tr>\n",
       "    <tr>\n",
       "      <th>4</th>\n",
       "      <td>batin</td>\n",
       "      <td>ahmetb</td>\n",
       "    </tr>\n",
       "    <tr>\n",
       "      <th>...</th>\n",
       "      <td>...</td>\n",
       "      <td>...</td>\n",
       "    </tr>\n",
       "    <tr>\n",
       "      <th>1216786</th>\n",
       "      <td>zerchen</td>\n",
       "      <td>hongyuanyu</td>\n",
       "    </tr>\n",
       "    <tr>\n",
       "      <th>1216787</th>\n",
       "      <td>EHZ9NIWI7</td>\n",
       "      <td>hongyuanyu</td>\n",
       "    </tr>\n",
       "    <tr>\n",
       "      <th>1216788</th>\n",
       "      <td>zetaodu</td>\n",
       "      <td>hongyuanyu</td>\n",
       "    </tr>\n",
       "    <tr>\n",
       "      <th>1216789</th>\n",
       "      <td>diyiiyiii</td>\n",
       "      <td>hongyuanyu</td>\n",
       "    </tr>\n",
       "    <tr>\n",
       "      <th>1216790</th>\n",
       "      <td>simazzz</td>\n",
       "      <td>hongyuanyu</td>\n",
       "    </tr>\n",
       "  </tbody>\n",
       "</table>\n",
       "<p>1216791 rows × 2 columns</p>\n",
       "</div>"
      ],
      "text/plain": [
       "         following      follow\n",
       "0            batin      gokmen\n",
       "1            batin       samet\n",
       "2            batin        vigo\n",
       "3            batin  muratcorlu\n",
       "4            batin      ahmetb\n",
       "...            ...         ...\n",
       "1216786    zerchen  hongyuanyu\n",
       "1216787  EHZ9NIWI7  hongyuanyu\n",
       "1216788    zetaodu  hongyuanyu\n",
       "1216789  diyiiyiii  hongyuanyu\n",
       "1216790    simazzz  hongyuanyu\n",
       "\n",
       "[1216791 rows x 2 columns]"
      ]
     },
     "execution_count": 3,
     "metadata": {},
     "output_type": "execute_result"
    }
   ],
   "source": [
    "edges"
   ]
  },
  {
   "cell_type": "code",
   "execution_count": 4,
   "id": "2ef5c9d9",
   "metadata": {},
   "outputs": [],
   "source": [
    "users = load_data(format='pandas')"
   ]
  },
  {
   "cell_type": "code",
   "execution_count": 5,
   "id": "9a7e7855",
   "metadata": {},
   "outputs": [
    {
     "data": {
      "text/plain": [
       "117163"
      ]
     },
     "execution_count": 5,
     "metadata": {},
     "output_type": "execute_result"
    }
   ],
   "source": [
    "unique_users = set(edges['following']).intersection(edges['follow'])\n",
    "len(unique_users)"
   ]
  },
  {
   "cell_type": "code",
   "execution_count": 6,
   "id": "ebd11745",
   "metadata": {},
   "outputs": [],
   "source": [
    "subset_edges = edges.merge(users['login'], left_on='following', right_on='login') \\\n",
    "     .merge(users['login'], left_on='follow', right_on='login') \\\n",
    "     [['following', 'follow']] \\\n",
    "     .drop_duplicates()\n",
    "    "
   ]
  },
  {
   "cell_type": "code",
   "execution_count": 7,
   "id": "aaa711e2",
   "metadata": {},
   "outputs": [
    {
     "data": {
      "text/html": [
       "<div>\n",
       "<style scoped>\n",
       "    .dataframe tbody tr th:only-of-type {\n",
       "        vertical-align: middle;\n",
       "    }\n",
       "\n",
       "    .dataframe tbody tr th {\n",
       "        vertical-align: top;\n",
       "    }\n",
       "\n",
       "    .dataframe thead th {\n",
       "        text-align: right;\n",
       "    }\n",
       "</style>\n",
       "<table border=\"1\" class=\"dataframe\">\n",
       "  <thead>\n",
       "    <tr style=\"text-align: right;\">\n",
       "      <th></th>\n",
       "      <th>following</th>\n",
       "      <th>follow</th>\n",
       "    </tr>\n",
       "  </thead>\n",
       "  <tbody>\n",
       "    <tr>\n",
       "      <th>0</th>\n",
       "      <td>batin</td>\n",
       "      <td>gokmen</td>\n",
       "    </tr>\n",
       "    <tr>\n",
       "      <th>1</th>\n",
       "      <td>huseyinozkilic</td>\n",
       "      <td>gokmen</td>\n",
       "    </tr>\n",
       "    <tr>\n",
       "      <th>2</th>\n",
       "      <td>aliorhun</td>\n",
       "      <td>gokmen</td>\n",
       "    </tr>\n",
       "    <tr>\n",
       "      <th>4</th>\n",
       "      <td>OnurSevket</td>\n",
       "      <td>gokmen</td>\n",
       "    </tr>\n",
       "    <tr>\n",
       "      <th>5</th>\n",
       "      <td>barisesen</td>\n",
       "      <td>gokmen</td>\n",
       "    </tr>\n",
       "    <tr>\n",
       "      <th>...</th>\n",
       "      <td>...</td>\n",
       "      <td>...</td>\n",
       "    </tr>\n",
       "    <tr>\n",
       "      <th>144372</th>\n",
       "      <td>piratus</td>\n",
       "      <td>thaewrapt</td>\n",
       "    </tr>\n",
       "    <tr>\n",
       "      <th>144373</th>\n",
       "      <td>piratus</td>\n",
       "      <td>ihororlovskyi</td>\n",
       "    </tr>\n",
       "    <tr>\n",
       "      <th>144374</th>\n",
       "      <td>etimberg</td>\n",
       "      <td>mlaccetti</td>\n",
       "    </tr>\n",
       "    <tr>\n",
       "      <th>144375</th>\n",
       "      <td>alessandromarotta</td>\n",
       "      <td>lutsen</td>\n",
       "    </tr>\n",
       "    <tr>\n",
       "      <th>144376</th>\n",
       "      <td>LJNGDAHL</td>\n",
       "      <td>bonny</td>\n",
       "    </tr>\n",
       "  </tbody>\n",
       "</table>\n",
       "<p>135462 rows × 2 columns</p>\n",
       "</div>"
      ],
      "text/plain": [
       "                following         follow\n",
       "0                   batin         gokmen\n",
       "1          huseyinozkilic         gokmen\n",
       "2                aliorhun         gokmen\n",
       "4              OnurSevket         gokmen\n",
       "5               barisesen         gokmen\n",
       "...                   ...            ...\n",
       "144372            piratus      thaewrapt\n",
       "144373            piratus  ihororlovskyi\n",
       "144374           etimberg      mlaccetti\n",
       "144375  alessandromarotta         lutsen\n",
       "144376           LJNGDAHL          bonny\n",
       "\n",
       "[135462 rows x 2 columns]"
      ]
     },
     "execution_count": 7,
     "metadata": {},
     "output_type": "execute_result"
    }
   ],
   "source": [
    "subset_edges"
   ]
  },
  {
   "cell_type": "code",
   "execution_count": 8,
   "id": "d94a7e5f",
   "metadata": {},
   "outputs": [],
   "source": [
    "subset_edges.to_csv(cfg.USER_RELATIONS_FILE, index=False)"
   ]
  },
  {
   "cell_type": "code",
   "execution_count": null,
   "id": "7cc8b818",
   "metadata": {},
   "outputs": [],
   "source": []
  }
 ],
 "metadata": {
  "kernelspec": {
   "display_name": "Python 3 (ipykernel)",
   "language": "python",
   "name": "python3"
  },
  "language_info": {
   "codemirror_mode": {
    "name": "ipython",
    "version": 3
   },
   "file_extension": ".py",
   "mimetype": "text/x-python",
   "name": "python",
   "nbconvert_exporter": "python",
   "pygments_lexer": "ipython3",
   "version": "3.10.6"
  }
 },
 "nbformat": 4,
 "nbformat_minor": 5
}
