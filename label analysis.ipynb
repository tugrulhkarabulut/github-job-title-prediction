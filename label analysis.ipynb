{
 "cells": [
  {
   "cell_type": "code",
   "execution_count": 2,
   "id": "56663751",
   "metadata": {},
   "outputs": [],
   "source": [
    "import re\n",
    "\n",
    "from sklearn.feature_extraction.text import CountVectorizer\n",
    "import pandas as pd\n",
    "from utils import load_data\n",
    "import config as cfg"
   ]
  },
  {
   "cell_type": "code",
   "execution_count": 3,
   "id": "20d1a937",
   "metadata": {},
   "outputs": [],
   "source": [
    "users = load_data(format='pandas')"
   ]
  },
  {
   "cell_type": "code",
   "execution_count": 4,
   "id": "d3b0a9ad",
   "metadata": {},
   "outputs": [],
   "source": [
    "users = users.drop_duplicates()"
   ]
  },
  {
   "cell_type": "code",
   "execution_count": 5,
   "id": "e474a69b",
   "metadata": {},
   "outputs": [
    {
     "data": {
      "text/plain": [
       "Index(['login', 'id', 'node_id', 'avatar_url', 'gravatar_id', 'url',\n",
       "       'html_url', 'followers_url', 'following_url', 'gists_url',\n",
       "       'starred_url', 'subscriptions_url', 'organizations_url', 'repos_url',\n",
       "       'events_url', 'received_events_url', 'type', 'site_admin', 'name',\n",
       "       'company', 'blog', 'location', 'email', 'hireable', 'bio',\n",
       "       'twitter_username', 'public_repos', 'public_gists', 'followers',\n",
       "       'following', 'created_at', 'updated_at'],\n",
       "      dtype='object')"
      ]
     },
     "execution_count": 5,
     "metadata": {},
     "output_type": "execute_result"
    }
   ],
   "source": [
    "users.columns"
   ]
  },
  {
   "cell_type": "code",
   "execution_count": 6,
   "id": "198ffb08",
   "metadata": {
    "scrolled": true
   },
   "outputs": [
    {
     "data": {
      "text/plain": [
       "Index(['Beijing', 'China', 'Beijing, China', 'Shanghai', 'San Francisco, CA',\n",
       "       'London', 'India', 'Shanghai, China', 'Berlin, Germany', 'Singapore',\n",
       "       ...\n",
       "       'London, UK / Italy', 'Anápolis - Goiás, Brasil', 'Shanghai Huangpu',\n",
       "       'Seville, Andalusia (Spain)',\n",
       "       'nohup ./bin/norfair00 brain /data > /dev/null 2>&1 &',\n",
       "       'Hong Kong; Shenzhen, China', 'Taubaté, SP - Brasil', 'Rangkasbitung',\n",
       "       'Mannheim, Baden-Württemberg, Germany', 'Connecticut'],\n",
       "      dtype='object', length=9758)"
      ]
     },
     "execution_count": 6,
     "metadata": {},
     "output_type": "execute_result"
    }
   ],
   "source": [
    "users.location.value_counts().index"
   ]
  },
  {
   "cell_type": "code",
   "execution_count": 7,
   "id": "2746cbbf",
   "metadata": {},
   "outputs": [],
   "source": [
    "cleaner = lambda text: re.sub(r\"(@\\[A-Za-z0-9]+)|([^0-9A-Za-z \\t])|(\\w+:\\/\\/\\S+)|^rt|http.+?\", \" \", text)"
   ]
  },
  {
   "cell_type": "code",
   "execution_count": 8,
   "id": "48e7d437",
   "metadata": {},
   "outputs": [
    {
     "name": "stdout",
     "output_type": "stream",
     "text": [
      "professor at ifnmg, ph.d. in computational intelligence,  data science and machine intelligence enthusiast at minds/ufmg, researcher at @cidic-ifnmg \n",
      "professor at ifnmg  ph d  in computational intelligence   data science and machine intelligence enthusiast at minds ufmg  researcher at  cidic ifnmg \n",
      "professor at ifnmg ph d in computational intelligence data science and machine intelligence enthusiast at minds ufmg researcher at cidic ifnmg\n"
     ]
    }
   ],
   "source": [
    "bios = users.set_index('login')['bio']\n",
    "bios = bios.str.lower()\n",
    "bios = bios.dropna()\n",
    "print(bios.iloc[572])\n",
    "bios = bios.apply(cleaner)\n",
    "print(bios.iloc[572])\n",
    "bios = bios.str.split().apply(' '.join)\n",
    "print(bios.iloc[572])"
   ]
  },
  {
   "cell_type": "code",
   "execution_count": 9,
   "id": "d27ee37c",
   "metadata": {},
   "outputs": [
    {
     "data": {
      "text/plain": [
       "login\n",
       "juankuquintana                       backend engineer at the kernel\n",
       "josete89                     swift machine learning java javascript\n",
       "stevejhkang                              interested in cloud spring\n",
       "andru255                                                  developer\n",
       "nylqd                                   done is better than perfect\n",
       "                                        ...                        \n",
       "kmanley                                                     loading\n",
       "piraka9011                              roboticist i talk to robots\n",
       "jurabek           software engineer mostly developing using open...\n",
       "jikkujose         simulation hypothesis mindfulness decentraliza...\n",
       "mouadziani        full stack software engineer working with lara...\n",
       "Name: bio, Length: 33262, dtype: object"
      ]
     },
     "execution_count": 9,
     "metadata": {},
     "output_type": "execute_result"
    }
   ],
   "source": [
    "bios"
   ]
  },
  {
   "cell_type": "code",
   "execution_count": 10,
   "id": "b4e12106",
   "metadata": {},
   "outputs": [],
   "source": [
    "def check_occurences(texts, text):\n",
    "    return texts.str.contains(text).sum()"
   ]
  },
  {
   "cell_type": "code",
   "execution_count": 11,
   "id": "4ef475d1",
   "metadata": {},
   "outputs": [],
   "source": [
    "c = CountVectorizer(max_features=200, ngram_range=(2,2), stop_words='english')"
   ]
  },
  {
   "cell_type": "code",
   "execution_count": 12,
   "id": "19b6fc09",
   "metadata": {},
   "outputs": [
    {
     "data": {
      "text/html": [
       "<style>#sk-container-id-1 {color: black;background-color: white;}#sk-container-id-1 pre{padding: 0;}#sk-container-id-1 div.sk-toggleable {background-color: white;}#sk-container-id-1 label.sk-toggleable__label {cursor: pointer;display: block;width: 100%;margin-bottom: 0;padding: 0.3em;box-sizing: border-box;text-align: center;}#sk-container-id-1 label.sk-toggleable__label-arrow:before {content: \"▸\";float: left;margin-right: 0.25em;color: #696969;}#sk-container-id-1 label.sk-toggleable__label-arrow:hover:before {color: black;}#sk-container-id-1 div.sk-estimator:hover label.sk-toggleable__label-arrow:before {color: black;}#sk-container-id-1 div.sk-toggleable__content {max-height: 0;max-width: 0;overflow: hidden;text-align: left;background-color: #f0f8ff;}#sk-container-id-1 div.sk-toggleable__content pre {margin: 0.2em;color: black;border-radius: 0.25em;background-color: #f0f8ff;}#sk-container-id-1 input.sk-toggleable__control:checked~div.sk-toggleable__content {max-height: 200px;max-width: 100%;overflow: auto;}#sk-container-id-1 input.sk-toggleable__control:checked~label.sk-toggleable__label-arrow:before {content: \"▾\";}#sk-container-id-1 div.sk-estimator input.sk-toggleable__control:checked~label.sk-toggleable__label {background-color: #d4ebff;}#sk-container-id-1 div.sk-label input.sk-toggleable__control:checked~label.sk-toggleable__label {background-color: #d4ebff;}#sk-container-id-1 input.sk-hidden--visually {border: 0;clip: rect(1px 1px 1px 1px);clip: rect(1px, 1px, 1px, 1px);height: 1px;margin: -1px;overflow: hidden;padding: 0;position: absolute;width: 1px;}#sk-container-id-1 div.sk-estimator {font-family: monospace;background-color: #f0f8ff;border: 1px dotted black;border-radius: 0.25em;box-sizing: border-box;margin-bottom: 0.5em;}#sk-container-id-1 div.sk-estimator:hover {background-color: #d4ebff;}#sk-container-id-1 div.sk-parallel-item::after {content: \"\";width: 100%;border-bottom: 1px solid gray;flex-grow: 1;}#sk-container-id-1 div.sk-label:hover label.sk-toggleable__label {background-color: #d4ebff;}#sk-container-id-1 div.sk-serial::before {content: \"\";position: absolute;border-left: 1px solid gray;box-sizing: border-box;top: 0;bottom: 0;left: 50%;z-index: 0;}#sk-container-id-1 div.sk-serial {display: flex;flex-direction: column;align-items: center;background-color: white;padding-right: 0.2em;padding-left: 0.2em;position: relative;}#sk-container-id-1 div.sk-item {position: relative;z-index: 1;}#sk-container-id-1 div.sk-parallel {display: flex;align-items: stretch;justify-content: center;background-color: white;position: relative;}#sk-container-id-1 div.sk-item::before, #sk-container-id-1 div.sk-parallel-item::before {content: \"\";position: absolute;border-left: 1px solid gray;box-sizing: border-box;top: 0;bottom: 0;left: 50%;z-index: -1;}#sk-container-id-1 div.sk-parallel-item {display: flex;flex-direction: column;z-index: 1;position: relative;background-color: white;}#sk-container-id-1 div.sk-parallel-item:first-child::after {align-self: flex-end;width: 50%;}#sk-container-id-1 div.sk-parallel-item:last-child::after {align-self: flex-start;width: 50%;}#sk-container-id-1 div.sk-parallel-item:only-child::after {width: 0;}#sk-container-id-1 div.sk-dashed-wrapped {border: 1px dashed gray;margin: 0 0.4em 0.5em 0.4em;box-sizing: border-box;padding-bottom: 0.4em;background-color: white;}#sk-container-id-1 div.sk-label label {font-family: monospace;font-weight: bold;display: inline-block;line-height: 1.2em;}#sk-container-id-1 div.sk-label-container {text-align: center;}#sk-container-id-1 div.sk-container {/* jupyter's `normalize.less` sets `[hidden] { display: none; }` but bootstrap.min.css set `[hidden] { display: none !important; }` so we also need the `!important` here to be able to override the default hidden behavior on the sphinx rendered scikit-learn.org. See: https://github.com/scikit-learn/scikit-learn/issues/21755 */display: inline-block !important;position: relative;}#sk-container-id-1 div.sk-text-repr-fallback {display: none;}</style><div id=\"sk-container-id-1\" class=\"sk-top-container\"><div class=\"sk-text-repr-fallback\"><pre>CountVectorizer(max_features=200, ngram_range=(2, 2), stop_words=&#x27;english&#x27;)</pre><b>In a Jupyter environment, please rerun this cell to show the HTML representation or trust the notebook. <br />On GitHub, the HTML representation is unable to render, please try loading this page with nbviewer.org.</b></div><div class=\"sk-container\" hidden><div class=\"sk-item\"><div class=\"sk-estimator sk-toggleable\"><input class=\"sk-toggleable__control sk-hidden--visually\" id=\"sk-estimator-id-1\" type=\"checkbox\" checked><label for=\"sk-estimator-id-1\" class=\"sk-toggleable__label sk-toggleable__label-arrow\">CountVectorizer</label><div class=\"sk-toggleable__content\"><pre>CountVectorizer(max_features=200, ngram_range=(2, 2), stop_words=&#x27;english&#x27;)</pre></div></div></div></div></div>"
      ],
      "text/plain": [
       "CountVectorizer(max_features=200, ngram_range=(2, 2), stop_words='english')"
      ]
     },
     "execution_count": 12,
     "metadata": {},
     "output_type": "execute_result"
    }
   ],
   "source": [
    "c.fit(bios)"
   ]
  },
  {
   "cell_type": "code",
   "execution_count": 13,
   "id": "d3d18eec",
   "metadata": {},
   "outputs": [
    {
     "data": {
      "text/plain": [
       "array(['10 years', 'ai ml', 'android developer', 'android ios',\n",
       "       'app developer', 'application developer',\n",
       "       'artificial intelligence', 'assistant professor',\n",
       "       'associate professor', 'backend developer', 'backend engineer',\n",
       "       'big data', 'build things', 'building things', 'cloud computing',\n",
       "       'cloud native', 'computer engineer', 'computer engineering',\n",
       "       'computer graphics', 'computer science', 'computer scientist',\n",
       "       'computer vision', 'core team', 'cs phd', 'cto founder',\n",
       "       'currently working', 'data analysis', 'data engineer',\n",
       "       'data engineering', 'data mining', 'data science',\n",
       "       'data scientist', 'data visualization', 'deep learning',\n",
       "       'design systems', 'designer developer', 'developer advocate',\n",
       "       'developer designer', 'developer expert', 'developer founder',\n",
       "       'developer javascript', 'developer love', 'developer loves',\n",
       "       'developer open', 'developer php', 'developer react',\n",
       "       'developer software', 'developer working', 'development engineer',\n",
       "       'devops engineer', 'director engineering', 'distributed systems',\n",
       "       'end developer', 'end development', 'end engineer',\n",
       "       'engineer data', 'engineer google', 'engineer interested',\n",
       "       'engineer loves', 'engineer microsoft', 'engineer open',\n",
       "       'engineer passionate', 'engineer working', 'engineering manager',\n",
       "       'founder ceo', 'founder cto', 'frontend developer',\n",
       "       'frontend engineer', 'fullstack developer',\n",
       "       'functional programming', 'game developer', 'graduate student',\n",
       "       'head engineering', 'hello world', 'html css', 'hungry stay',\n",
       "       'husband father', 'ios developer', 'ios engineer',\n",
       "       'java developer', 'java python', 'javascript developer',\n",
       "       'javascript enthusiast', 'javascript node', 'javascript nodejs',\n",
       "       'javascript python', 'javascript react', 'javascript typescript',\n",
       "       'js developer', 'js react', 'js ts', 'language processing',\n",
       "       'lead developer', 'lead software', 'learn new',\n",
       "       'learning computer', 'learning data', 'learning deep',\n",
       "       'learning engineer', 'learning enthusiast', 'learning new',\n",
       "       'learning researcher', 'love coding', 'machine learning',\n",
       "       'make things', 'master student', 'ml engineer', 'mobile developer',\n",
       "       'mobile web', 'natural language', 'new technologies', 'new things',\n",
       "       'node js', 'open source', 'passionate software', 'ph candidate',\n",
       "       'ph student', 'phd candidate', 'phd student', 'php developer',\n",
       "       'php javascript', 'php laravel', 'php python', 'php symfony',\n",
       "       'principal engineer', 'principal software', 'problem solver',\n",
       "       'product designer', 'product engineer', 'product manager',\n",
       "       'programming languages', 'python developer', 'python django',\n",
       "       'python javascript', 'react js', 'react native', 'react node',\n",
       "       'react react', 'react vue', 'reinforcement learning',\n",
       "       'research engineer', 'research interests', 'research scientist',\n",
       "       'ruby rails', 'science machine', 'self taught', 'senior developer',\n",
       "       'senior engineer', 'senior frontend', 'senior software',\n",
       "       'senior stack', 'site reliability', 'software architect',\n",
       "       'software craftsman', 'software developer', 'software development',\n",
       "       'software engineer', 'software engineering', 'solution architect',\n",
       "       'solutions architect', 'source contributor', 'source enthusiast',\n",
       "       'source software', 'sr software', 'stack dev', 'stack developer',\n",
       "       'stack engineer', 'stack javascript', 'stack software',\n",
       "       'stack web', 'staff engineer', 'staff software', 'stay foolish',\n",
       "       'stay hungry', 'student computer', 'student university',\n",
       "       'systems engineer', 'talk cheap', 'team lead', 'tech enthusiast',\n",
       "       'tech lead', 'technical lead', 'typescript react', 'ui ux',\n",
       "       'ux designer', 'vision deep', 'vision machine', 'vue js',\n",
       "       'web application', 'web applications', 'web apps', 'web dev',\n",
       "       'web developer', 'web development', 'web engineer', 'web mobile',\n",
       "       'web technologies', 'write code', 'writing code',\n",
       "       'years experience'], dtype=object)"
      ]
     },
     "execution_count": 13,
     "metadata": {},
     "output_type": "execute_result"
    }
   ],
   "source": [
    "c.get_feature_names_out()"
   ]
  },
  {
   "cell_type": "code",
   "execution_count": 14,
   "id": "5ed66d85",
   "metadata": {
    "scrolled": false
   },
   "outputs": [
    {
     "data": {
      "text/plain": [
       "{'backend engineer': 10,\n",
       " 'machine learning': 103,\n",
       " 'software engineer': 156,\n",
       " 'computer engineer': 16,\n",
       " 'frontend developer': 66,\n",
       " 'developer open': 43,\n",
       " 'open source': 113,\n",
       " 'end developer': 52,\n",
       " 'senior software': 149,\n",
       " 'software developer': 154,\n",
       " 'lead developer': 92,\n",
       " 'stack web': 169,\n",
       " 'web developer': 192,\n",
       " 'ruby rails': 143,\n",
       " 'react js': 134,\n",
       " 'phd student': 118,\n",
       " 'deep learning': 33,\n",
       " 'computer vision': 21,\n",
       " 'python developer': 131,\n",
       " 'associate professor': 8,\n",
       " 'data mining': 29,\n",
       " 'big data': 11,\n",
       " 'javascript developer': 81,\n",
       " 'developer javascript': 40,\n",
       " 'javascript enthusiast': 82,\n",
       " 'application developer': 5,\n",
       " '10 years': 0,\n",
       " 'end engineer': 54,\n",
       " 'data engineer': 27,\n",
       " 'programming languages': 130,\n",
       " 'web development': 193,\n",
       " 'cto founder': 24,\n",
       " 'stack dev': 164,\n",
       " 'master student': 105,\n",
       " 'founder cto': 65,\n",
       " 'computer scientist': 20,\n",
       " 'computer engineering': 17,\n",
       " 'write code': 197,\n",
       " 'product engineer': 128,\n",
       " 'learning researcher': 101,\n",
       " 'data scientist': 31,\n",
       " 'team lead': 178,\n",
       " 'software development': 155,\n",
       " 'python django': 132,\n",
       " 'love coding': 102,\n",
       " 'app developer': 4,\n",
       " 'developer react': 45,\n",
       " 'react native': 135,\n",
       " 'husband father': 76,\n",
       " 'android ios': 3,\n",
       " 'ios developer': 77,\n",
       " 'stack developer': 165,\n",
       " 'computer science': 19,\n",
       " 'research interests': 141,\n",
       " 'engineer microsoft': 59,\n",
       " 'developer php': 44,\n",
       " 'php python': 122,\n",
       " 'node js': 112,\n",
       " 'product designer': 127,\n",
       " 'student university': 175,\n",
       " 'graduate student': 71,\n",
       " 'source enthusiast': 161,\n",
       " 'principal engineer': 124,\n",
       " 'core team': 22,\n",
       " 'backend developer': 9,\n",
       " 'engineering manager': 63,\n",
       " 'stack software': 168,\n",
       " 'js ts': 90,\n",
       " 'stack engineer': 166,\n",
       " 'artificial intelligence': 6,\n",
       " 'software engineering': 157,\n",
       " 'web engineer': 194,\n",
       " 'learning data': 96,\n",
       " 'data science': 30,\n",
       " 'problem solver': 126,\n",
       " 'designer developer': 35,\n",
       " 'devops engineer': 49,\n",
       " 'ml engineer': 106,\n",
       " 'php developer': 119,\n",
       " 'site reliability': 151,\n",
       " 'cs phd': 23,\n",
       " 'python javascript': 133,\n",
       " 'learning computer': 95,\n",
       " 'developer working': 47,\n",
       " 'frontend engineer': 67,\n",
       " 'natural language': 109,\n",
       " 'language processing': 91,\n",
       " 'senior developer': 146,\n",
       " 'engineer loves': 58,\n",
       " 'developer love': 41,\n",
       " 'js react': 89,\n",
       " 'vue js': 187,\n",
       " 'js developer': 88,\n",
       " 'hello world': 73,\n",
       " 'reinforcement learning': 139,\n",
       " 'learning deep': 97,\n",
       " 'functional programming': 69,\n",
       " 'lead software': 93,\n",
       " 'self taught': 145,\n",
       " 'tech enthusiast': 179,\n",
       " 'new technologies': 110,\n",
       " 'data analysis': 26,\n",
       " 'fullstack developer': 68,\n",
       " 'founder ceo': 64,\n",
       " 'engineer interested': 57,\n",
       " 'java developer': 79,\n",
       " 'learn new': 94,\n",
       " 'new things': 111,\n",
       " 'javascript react': 86,\n",
       " 'learning new': 100,\n",
       " 'ph student': 116,\n",
       " 'currently working': 25,\n",
       " 'assistant professor': 7,\n",
       " 'mobile web': 108,\n",
       " 'learning engineer': 98,\n",
       " 'react vue': 138,\n",
       " 'react react': 137,\n",
       " 'technical lead': 181,\n",
       " 'research engineer': 140,\n",
       " 'ui ux': 183,\n",
       " 'javascript python': 85,\n",
       " 'development engineer': 48,\n",
       " 'distributed systems': 51,\n",
       " 'data engineering': 28,\n",
       " 'passionate software': 114,\n",
       " 'vision deep': 185,\n",
       " 'cloud computing': 14,\n",
       " 'senior frontend': 148,\n",
       " 'ux designer': 184,\n",
       " 'sr software': 163,\n",
       " 'years experience': 199,\n",
       " 'science machine': 144,\n",
       " 'research scientist': 142,\n",
       " 'phd candidate': 117,\n",
       " 'developer advocate': 36,\n",
       " 'javascript node': 83,\n",
       " 'engineer google': 56,\n",
       " 'tech lead': 180,\n",
       " 'product manager': 129,\n",
       " 'design systems': 34,\n",
       " 'student computer': 174,\n",
       " 'game developer': 70,\n",
       " 'source contributor': 160,\n",
       " 'web applications': 189,\n",
       " 'engineer working': 62,\n",
       " 'web mobile': 195,\n",
       " 'php laravel': 121,\n",
       " 'staff software': 171,\n",
       " 'cloud native': 15,\n",
       " 'typescript react': 182,\n",
       " 'react node': 136,\n",
       " 'developer designer': 37,\n",
       " 'web apps': 190,\n",
       " 'engineer passionate': 61,\n",
       " 'data visualization': 32,\n",
       " 'developer founder': 39,\n",
       " 'systems engineer': 176,\n",
       " 'make things': 104,\n",
       " 'java python': 80,\n",
       " 'software architect': 152,\n",
       " 'building things': 13,\n",
       " 'developer loves': 42,\n",
       " 'stay hungry': 173,\n",
       " 'hungry stay': 75,\n",
       " 'stay foolish': 172,\n",
       " 'ph candidate': 115,\n",
       " 'principal software': 125,\n",
       " 'stack javascript': 167,\n",
       " 'javascript typescript': 87,\n",
       " 'solution architect': 158,\n",
       " 'developer software': 46,\n",
       " 'writing code': 198,\n",
       " 'web technologies': 196,\n",
       " 'html css': 74,\n",
       " 'software craftsman': 153,\n",
       " 'senior stack': 150,\n",
       " 'senior engineer': 147,\n",
       " 'android developer': 2,\n",
       " 'talk cheap': 177,\n",
       " 'developer expert': 38,\n",
       " 'php symfony': 123,\n",
       " 'build things': 12,\n",
       " 'source software': 162,\n",
       " 'ios engineer': 78,\n",
       " 'javascript nodejs': 84,\n",
       " 'staff engineer': 170,\n",
       " 'end development': 53,\n",
       " 'solutions architect': 159,\n",
       " 'learning enthusiast': 99,\n",
       " 'vision machine': 186,\n",
       " 'mobile developer': 107,\n",
       " 'computer graphics': 18,\n",
       " 'head engineering': 72,\n",
       " 'engineer data': 55,\n",
       " 'web application': 188,\n",
       " 'engineer open': 60,\n",
       " 'ai ml': 1,\n",
       " 'php javascript': 120,\n",
       " 'director engineering': 50,\n",
       " 'web dev': 191}"
      ]
     },
     "execution_count": 14,
     "metadata": {},
     "output_type": "execute_result"
    }
   ],
   "source": [
    "c.vocabulary_"
   ]
  },
  {
   "cell_type": "code",
   "execution_count": 35,
   "id": "519c684b",
   "metadata": {},
   "outputs": [
    {
     "data": {
      "text/plain": [
       "(4240, (827, 373, 807, 571, 373, 703, 370, 114, 102))"
      ]
     },
     "execution_count": 35,
     "metadata": {},
     "output_type": "execute_result"
    }
   ],
   "source": [
    "x = (\n",
    "    check_occurences(bios, 'web developer'),\n",
    "    check_occurences(bios, 'backend'),\n",
    "    check_occurences(bios, 'front end'),\n",
    "    check_occurences(bios, 'frontend'),\n",
    "    check_occurences(bios, 'backend'),\n",
    "    check_occurences(bios, 'php'),\n",
    "    check_occurences(bios, 'nodejs'),\n",
    "    check_occurences(bios, 'vuejs'),\n",
    "    check_occurences(bios, 'django'),\n",
    ")\n",
    "sum(x), x"
   ]
  },
  {
   "cell_type": "code",
   "execution_count": 16,
   "id": "35687221",
   "metadata": {},
   "outputs": [
    {
     "data": {
      "text/plain": [
       "(5771, (683, 2812, 964, 111, 353, 73, 300, 445, 22, 8))"
      ]
     },
     "execution_count": 16,
     "metadata": {},
     "output_type": "execute_result"
    }
   ],
   "source": [
    "x = (\n",
    "    check_occurences(bios, 'ml'),\n",
    "    check_occurences(bios, 'ai'),\n",
    "    check_occurences(bios, 'machine learning'),\n",
    "    check_occurences(bios, 'artificial intelligence'),\n",
    "    check_occurences(bios, 'computer vision'),\n",
    "    check_occurences(bios, 'natural language processing'),\n",
    "    check_occurences(bios, 'nlp'),\n",
    "    check_occurences(bios, 'deep learning'),\n",
    "    check_occurences(bios, 'deeplearning'),\n",
    "    check_occurences(bios, 'machinelearning'),    \n",
    ")\n",
    "sum(x), x"
   ]
  },
  {
   "cell_type": "code",
   "execution_count": 17,
   "id": "bf66eafd",
   "metadata": {},
   "outputs": [
    {
     "data": {
      "text/plain": [
       "(1778, (387, 564, 504, 165, 158))"
      ]
     },
     "execution_count": 17,
     "metadata": {},
     "output_type": "execute_result"
    }
   ],
   "source": [
    "x = (\n",
    "    check_occurences(bios, 'mobile'),\n",
    "    check_occurences(bios, 'ios'),\n",
    "    check_occurences(bios, 'android'),\n",
    "    check_occurences(bios, 'swift'),\n",
    "    check_occurences(bios, 'flutter'),\n",
    "    \n",
    ")\n",
    "sum(x), x"
   ]
  },
  {
   "cell_type": "code",
   "execution_count": 18,
   "id": "d8df858e",
   "metadata": {},
   "outputs": [
    {
     "data": {
      "text/plain": [
       "(478, (478,))"
      ]
     },
     "execution_count": 18,
     "metadata": {},
     "output_type": "execute_result"
    }
   ],
   "source": [
    "x = (\n",
    "    check_occurences(bios, 'data scientist'),\n",
    ")\n",
    "sum(x), x"
   ]
  },
  {
   "cell_type": "code",
   "execution_count": 19,
   "id": "846bd529",
   "metadata": {},
   "outputs": [
    {
     "data": {
      "text/plain": [
       "(156, (154, 2))"
      ]
     },
     "execution_count": 19,
     "metadata": {},
     "output_type": "execute_result"
    }
   ],
   "source": [
    "x = (\n",
    "    check_occurences(bios, 'data engineer'),\n",
    "    check_occurences(bios, 'dataengineer'),\n",
    ")\n",
    "sum(x), x"
   ]
  },
  {
   "cell_type": "code",
   "execution_count": 20,
   "id": "ca0a891d",
   "metadata": {},
   "outputs": [
    {
     "data": {
      "text/plain": [
       "(3048,)"
      ]
     },
     "execution_count": 20,
     "metadata": {},
     "output_type": "execute_result"
    }
   ],
   "source": [
    "(\n",
    "    check_occurences(bios, 'software engineer'),\n",
    ")"
   ]
  },
  {
   "cell_type": "code",
   "execution_count": 21,
   "id": "e0d57239",
   "metadata": {
    "scrolled": true
   },
   "outputs": [
    {
     "data": {
      "text/plain": [
       "(1329, 332)"
      ]
     },
     "execution_count": 21,
     "metadata": {},
     "output_type": "execute_result"
    }
   ],
   "source": [
    "(\n",
    "    check_occurences(bios, 'full stack'),\n",
    "    check_occurences(bios, 'fullstack'),\n",
    ")"
   ]
  },
  {
   "cell_type": "code",
   "execution_count": 22,
   "id": "0df80cd4",
   "metadata": {},
   "outputs": [
    {
     "data": {
      "text/plain": [
       "(81, 54)"
      ]
     },
     "execution_count": 22,
     "metadata": {},
     "output_type": "execute_result"
    }
   ],
   "source": [
    "(\n",
    "    check_occurences(bios, 'ui ux'),\n",
    "    check_occurences(bios, 'ux designer'),\n",
    ")"
   ]
  },
  {
   "cell_type": "code",
   "execution_count": 34,
   "id": "2e01294c",
   "metadata": {},
   "outputs": [
    {
     "data": {
      "text/plain": [
       "login\n",
       "mmarchini                                bpf and stuff nodejs tsc\n",
       "cnviradiya      opensource lover nodejs vue storefront vue js ...\n",
       "GitHubJiKe          fullstack developer based on react vue nodejs\n",
       "LukeLin         senior frontend nodejs developer pre alloyteam...\n",
       "danillo10       fullstack developer html5 css3 javascript boos...\n",
       "                                      ...                        \n",
       "chandankuiry    i am python django developer nodejs enthusiast...\n",
       "geun                   startup developer nodejs react reactnative\n",
       "ericzon         computer engineer turned into fullstack dev in...\n",
       "daonhan         net senior developer loves javascript and web ...\n",
       "leux9                                         nodejs engineer ibm\n",
       "Name: bio, Length: 370, dtype: object"
      ]
     },
     "execution_count": 34,
     "metadata": {},
     "output_type": "execute_result"
    }
   ],
   "source": [
    "bios[bios.str.contains('nodejs')]"
   ]
  },
  {
   "cell_type": "code",
   "execution_count": 1,
   "id": "ae51cf60",
   "metadata": {},
   "outputs": [],
   "source": [
    "classes = [\n",
    "    'Web Developer', \n",
    "    'Mobile Developer', \n",
    "    'Machine Learning Engineer', \n",
    "    'Data Engineer', \n",
    "    'Data Scientist',\n",
    "    'UI/UX Developer'\n",
    "]"
   ]
  },
  {
   "cell_type": "code",
   "execution_count": 2,
   "id": "84edaed5",
   "metadata": {},
   "outputs": [
    {
     "data": {
      "text/plain": [
       "'Web Developer, Mobile Developer, Machine Learning Engineer, Data Engineer, Data Scientist, UI/UX Developer'"
      ]
     },
     "execution_count": 2,
     "metadata": {},
     "output_type": "execute_result"
    }
   ],
   "source": [
    "', '.join(classes)"
   ]
  },
  {
   "cell_type": "code",
   "execution_count": 37,
   "id": "85475b5e",
   "metadata": {},
   "outputs": [],
   "source": [
    "classes_expr = {\n",
    "    classes[0]: ['web developer', 'backend', 'front end', 'frontend', 'backend', 'php', 'nodejs', 'vuejs', 'django'],\n",
    "    classes[1]: ['ios', 'android', 'swift', 'flutter'],\n",
    "    classes[2]: ['ai', 'machine learning', 'artificial intelligence', 'computer vision', 'natural language processing', 'nlp', 'deep learning', 'deeplearning', 'machinelearning'],\n",
    "    classes[3]: ['data engineer', 'dataengineer'],\n",
    "    classes[4]: ['data scientist'],\n",
    "    classes[5]: ['ui ux', 'ux designer']\n",
    "}"
   ]
  },
  {
   "cell_type": "code",
   "execution_count": 38,
   "id": "a421fdbb",
   "metadata": {},
   "outputs": [],
   "source": [
    "labels = pd.DataFrame(index=bios.index)\n",
    "for class_, exprs in classes_expr.items():\n",
    "    x = pd.Series(0, index=bios.index)\n",
    "    for e in exprs:\n",
    "        x = x + bios.str.contains(e).astype(int)\n",
    "    \n",
    "    x = (x > 0 ).astype(int)\n",
    "    labels[class_] = x"
   ]
  },
  {
   "cell_type": "code",
   "execution_count": 39,
   "id": "50a7d153",
   "metadata": {},
   "outputs": [
    {
     "data": {
      "text/plain": [
       "Web Developer                3449\n",
       "Mobile Developer             1186\n",
       "Machine Learning Engineer    4357\n",
       "Data Engineer                 156\n",
       "Data Scientist                478\n",
       "UI/UX Developer               112\n",
       "dtype: int64"
      ]
     },
     "execution_count": 39,
     "metadata": {},
     "output_type": "execute_result"
    }
   ],
   "source": [
    "labels.sum(axis=0)"
   ]
  },
  {
   "cell_type": "code",
   "execution_count": 49,
   "id": "c1feac8e",
   "metadata": {},
   "outputs": [
    {
     "data": {
      "text/html": [
       "<div>\n",
       "<style scoped>\n",
       "    .dataframe tbody tr th:only-of-type {\n",
       "        vertical-align: middle;\n",
       "    }\n",
       "\n",
       "    .dataframe tbody tr th {\n",
       "        vertical-align: top;\n",
       "    }\n",
       "\n",
       "    .dataframe thead th {\n",
       "        text-align: right;\n",
       "    }\n",
       "</style>\n",
       "<table border=\"1\" class=\"dataframe\">\n",
       "  <thead>\n",
       "    <tr style=\"text-align: right;\">\n",
       "      <th></th>\n",
       "      <th>Web Developer</th>\n",
       "      <th>Mobile Developer</th>\n",
       "      <th>Machine Learning Engineer</th>\n",
       "      <th>Data Engineer</th>\n",
       "      <th>Data Scientist</th>\n",
       "      <th>UI/UX Developer</th>\n",
       "    </tr>\n",
       "    <tr>\n",
       "      <th>login</th>\n",
       "      <th></th>\n",
       "      <th></th>\n",
       "      <th></th>\n",
       "      <th></th>\n",
       "      <th></th>\n",
       "      <th></th>\n",
       "    </tr>\n",
       "  </thead>\n",
       "  <tbody>\n",
       "    <tr>\n",
       "      <th>juankuquintana</th>\n",
       "      <td>1</td>\n",
       "      <td>0</td>\n",
       "      <td>0</td>\n",
       "      <td>0</td>\n",
       "      <td>0</td>\n",
       "      <td>0</td>\n",
       "    </tr>\n",
       "    <tr>\n",
       "      <th>josete89</th>\n",
       "      <td>0</td>\n",
       "      <td>1</td>\n",
       "      <td>1</td>\n",
       "      <td>0</td>\n",
       "      <td>0</td>\n",
       "      <td>0</td>\n",
       "    </tr>\n",
       "    <tr>\n",
       "      <th>stevejhkang</th>\n",
       "      <td>0</td>\n",
       "      <td>0</td>\n",
       "      <td>0</td>\n",
       "      <td>0</td>\n",
       "      <td>0</td>\n",
       "      <td>0</td>\n",
       "    </tr>\n",
       "    <tr>\n",
       "      <th>andru255</th>\n",
       "      <td>0</td>\n",
       "      <td>0</td>\n",
       "      <td>0</td>\n",
       "      <td>0</td>\n",
       "      <td>0</td>\n",
       "      <td>0</td>\n",
       "    </tr>\n",
       "    <tr>\n",
       "      <th>nylqd</th>\n",
       "      <td>0</td>\n",
       "      <td>0</td>\n",
       "      <td>0</td>\n",
       "      <td>0</td>\n",
       "      <td>0</td>\n",
       "      <td>0</td>\n",
       "    </tr>\n",
       "    <tr>\n",
       "      <th>...</th>\n",
       "      <td>...</td>\n",
       "      <td>...</td>\n",
       "      <td>...</td>\n",
       "      <td>...</td>\n",
       "      <td>...</td>\n",
       "      <td>...</td>\n",
       "    </tr>\n",
       "    <tr>\n",
       "      <th>kmanley</th>\n",
       "      <td>0</td>\n",
       "      <td>0</td>\n",
       "      <td>0</td>\n",
       "      <td>0</td>\n",
       "      <td>0</td>\n",
       "      <td>0</td>\n",
       "    </tr>\n",
       "    <tr>\n",
       "      <th>piraka9011</th>\n",
       "      <td>0</td>\n",
       "      <td>0</td>\n",
       "      <td>0</td>\n",
       "      <td>0</td>\n",
       "      <td>0</td>\n",
       "      <td>0</td>\n",
       "    </tr>\n",
       "    <tr>\n",
       "      <th>jurabek</th>\n",
       "      <td>0</td>\n",
       "      <td>0</td>\n",
       "      <td>0</td>\n",
       "      <td>0</td>\n",
       "      <td>0</td>\n",
       "      <td>0</td>\n",
       "    </tr>\n",
       "    <tr>\n",
       "      <th>jikkujose</th>\n",
       "      <td>0</td>\n",
       "      <td>0</td>\n",
       "      <td>1</td>\n",
       "      <td>0</td>\n",
       "      <td>0</td>\n",
       "      <td>0</td>\n",
       "    </tr>\n",
       "    <tr>\n",
       "      <th>mouadziani</th>\n",
       "      <td>0</td>\n",
       "      <td>0</td>\n",
       "      <td>1</td>\n",
       "      <td>0</td>\n",
       "      <td>0</td>\n",
       "      <td>0</td>\n",
       "    </tr>\n",
       "  </tbody>\n",
       "</table>\n",
       "<p>33262 rows × 6 columns</p>\n",
       "</div>"
      ],
      "text/plain": [
       "                Web Developer  Mobile Developer  Machine Learning Engineer  \\\n",
       "login                                                                        \n",
       "juankuquintana              1                 0                          0   \n",
       "josete89                    0                 1                          1   \n",
       "stevejhkang                 0                 0                          0   \n",
       "andru255                    0                 0                          0   \n",
       "nylqd                       0                 0                          0   \n",
       "...                       ...               ...                        ...   \n",
       "kmanley                     0                 0                          0   \n",
       "piraka9011                  0                 0                          0   \n",
       "jurabek                     0                 0                          0   \n",
       "jikkujose                   0                 0                          1   \n",
       "mouadziani                  0                 0                          1   \n",
       "\n",
       "                Data Engineer  Data Scientist  UI/UX Developer  \n",
       "login                                                           \n",
       "juankuquintana              0               0                0  \n",
       "josete89                    0               0                0  \n",
       "stevejhkang                 0               0                0  \n",
       "andru255                    0               0                0  \n",
       "nylqd                       0               0                0  \n",
       "...                       ...             ...              ...  \n",
       "kmanley                     0               0                0  \n",
       "piraka9011                  0               0                0  \n",
       "jurabek                     0               0                0  \n",
       "jikkujose                   0               0                0  \n",
       "mouadziani                  0               0                0  \n",
       "\n",
       "[33262 rows x 6 columns]"
      ]
     },
     "execution_count": 49,
     "metadata": {},
     "output_type": "execute_result"
    }
   ],
   "source": [
    "labels"
   ]
  },
  {
   "cell_type": "code",
   "execution_count": 41,
   "id": "ae1272b8",
   "metadata": {},
   "outputs": [
    {
     "data": {
      "text/plain": [
       "login\n",
       "juankuquintana                       backend engineer at the kernel\n",
       "josete89                     swift machine learning java javascript\n",
       "stevejhkang                              interested in cloud spring\n",
       "andru255                                                  developer\n",
       "nylqd                                   done is better than perfect\n",
       "                                        ...                        \n",
       "kmanley                                                     loading\n",
       "piraka9011                              roboticist i talk to robots\n",
       "jurabek           software engineer mostly developing using open...\n",
       "jikkujose         simulation hypothesis mindfulness decentraliza...\n",
       "mouadziani        full stack software engineer working with lara...\n",
       "Name: bio, Length: 33262, dtype: object"
      ]
     },
     "execution_count": 41,
     "metadata": {},
     "output_type": "execute_result"
    }
   ],
   "source": [
    "bios"
   ]
  },
  {
   "cell_type": "code",
   "execution_count": 42,
   "id": "26d9ed0b",
   "metadata": {},
   "outputs": [
    {
     "data": {
      "text/html": [
       "<div>\n",
       "<style scoped>\n",
       "    .dataframe tbody tr th:only-of-type {\n",
       "        vertical-align: middle;\n",
       "    }\n",
       "\n",
       "    .dataframe tbody tr th {\n",
       "        vertical-align: top;\n",
       "    }\n",
       "\n",
       "    .dataframe thead th {\n",
       "        text-align: right;\n",
       "    }\n",
       "</style>\n",
       "<table border=\"1\" class=\"dataframe\">\n",
       "  <thead>\n",
       "    <tr style=\"text-align: right;\">\n",
       "      <th></th>\n",
       "      <th>Web Developer</th>\n",
       "      <th>Mobile Developer</th>\n",
       "      <th>Machine Learning Engineer</th>\n",
       "      <th>Data Engineer</th>\n",
       "      <th>Data Scientist</th>\n",
       "      <th>UI/UX Developer</th>\n",
       "      <th>bio</th>\n",
       "    </tr>\n",
       "    <tr>\n",
       "      <th>login</th>\n",
       "      <th></th>\n",
       "      <th></th>\n",
       "      <th></th>\n",
       "      <th></th>\n",
       "      <th></th>\n",
       "      <th></th>\n",
       "      <th></th>\n",
       "    </tr>\n",
       "  </thead>\n",
       "  <tbody>\n",
       "    <tr>\n",
       "      <th>007arunwilson</th>\n",
       "      <td>1</td>\n",
       "      <td>0</td>\n",
       "      <td>0</td>\n",
       "      <td>0</td>\n",
       "      <td>0</td>\n",
       "      <td>0</td>\n",
       "      <td>exploring js nodejs dev former php dev react n...</td>\n",
       "    </tr>\n",
       "    <tr>\n",
       "      <th>007jedgar</th>\n",
       "      <td>0</td>\n",
       "      <td>0</td>\n",
       "      <td>0</td>\n",
       "      <td>0</td>\n",
       "      <td>0</td>\n",
       "      <td>0</td>\n",
       "      <td>mobile web app dev</td>\n",
       "    </tr>\n",
       "    <tr>\n",
       "      <th>00Kai0</th>\n",
       "      <td>0</td>\n",
       "      <td>0</td>\n",
       "      <td>0</td>\n",
       "      <td>0</td>\n",
       "      <td>0</td>\n",
       "      <td>0</td>\n",
       "      <td>coding for fun currently working on game party...</td>\n",
       "    </tr>\n",
       "    <tr>\n",
       "      <th>00imvj00</th>\n",
       "      <td>0</td>\n",
       "      <td>0</td>\n",
       "      <td>0</td>\n",
       "      <td>0</td>\n",
       "      <td>0</td>\n",
       "      <td>0</td>\n",
       "      <td>engineer</td>\n",
       "    </tr>\n",
       "    <tr>\n",
       "      <th>0101011</th>\n",
       "      <td>0</td>\n",
       "      <td>0</td>\n",
       "      <td>0</td>\n",
       "      <td>0</td>\n",
       "      <td>0</td>\n",
       "      <td>0</td>\n",
       "      <td>software engineer</td>\n",
       "    </tr>\n",
       "    <tr>\n",
       "      <th>...</th>\n",
       "      <td>...</td>\n",
       "      <td>...</td>\n",
       "      <td>...</td>\n",
       "      <td>...</td>\n",
       "      <td>...</td>\n",
       "      <td>...</td>\n",
       "      <td>...</td>\n",
       "    </tr>\n",
       "    <tr>\n",
       "      <th>yysu</th>\n",
       "      <td>1</td>\n",
       "      <td>0</td>\n",
       "      <td>1</td>\n",
       "      <td>0</td>\n",
       "      <td>0</td>\n",
       "      <td>0</td>\n",
       "      <td>aws certified all 5 familiar with python conta...</td>\n",
       "    </tr>\n",
       "    <tr>\n",
       "      <th>yysu</th>\n",
       "      <td>1</td>\n",
       "      <td>0</td>\n",
       "      <td>1</td>\n",
       "      <td>0</td>\n",
       "      <td>0</td>\n",
       "      <td>0</td>\n",
       "      <td>aws certified all 5 familiar with python conta...</td>\n",
       "    </tr>\n",
       "    <tr>\n",
       "      <th>zhouzi</th>\n",
       "      <td>0</td>\n",
       "      <td>0</td>\n",
       "      <td>0</td>\n",
       "      <td>0</td>\n",
       "      <td>0</td>\n",
       "      <td>0</td>\n",
       "      <td>software engineer with a passion for user expe...</td>\n",
       "    </tr>\n",
       "    <tr>\n",
       "      <th>zhukovgreen</th>\n",
       "      <td>0</td>\n",
       "      <td>0</td>\n",
       "      <td>0</td>\n",
       "      <td>1</td>\n",
       "      <td>0</td>\n",
       "      <td>0</td>\n",
       "      <td>software and data engineer</td>\n",
       "    </tr>\n",
       "    <tr>\n",
       "      <th>zomervinicius</th>\n",
       "      <td>0</td>\n",
       "      <td>1</td>\n",
       "      <td>0</td>\n",
       "      <td>0</td>\n",
       "      <td>0</td>\n",
       "      <td>0</td>\n",
       "      <td>flutter react react native node graphql typesc...</td>\n",
       "    </tr>\n",
       "  </tbody>\n",
       "</table>\n",
       "<p>33284 rows × 7 columns</p>\n",
       "</div>"
      ],
      "text/plain": [
       "               Web Developer  Mobile Developer  Machine Learning Engineer  \\\n",
       "login                                                                       \n",
       "007arunwilson              1                 0                          0   \n",
       "007jedgar                  0                 0                          0   \n",
       "00Kai0                     0                 0                          0   \n",
       "00imvj00                   0                 0                          0   \n",
       "0101011                    0                 0                          0   \n",
       "...                      ...               ...                        ...   \n",
       "yysu                       1                 0                          1   \n",
       "yysu                       1                 0                          1   \n",
       "zhouzi                     0                 0                          0   \n",
       "zhukovgreen                0                 0                          0   \n",
       "zomervinicius              0                 1                          0   \n",
       "\n",
       "               Data Engineer  Data Scientist  UI/UX Developer  \\\n",
       "login                                                           \n",
       "007arunwilson              0               0                0   \n",
       "007jedgar                  0               0                0   \n",
       "00Kai0                     0               0                0   \n",
       "00imvj00                   0               0                0   \n",
       "0101011                    0               0                0   \n",
       "...                      ...             ...              ...   \n",
       "yysu                       0               0                0   \n",
       "yysu                       0               0                0   \n",
       "zhouzi                     0               0                0   \n",
       "zhukovgreen                1               0                0   \n",
       "zomervinicius              0               0                0   \n",
       "\n",
       "                                                             bio  \n",
       "login                                                             \n",
       "007arunwilson  exploring js nodejs dev former php dev react n...  \n",
       "007jedgar                                     mobile web app dev  \n",
       "00Kai0         coding for fun currently working on game party...  \n",
       "00imvj00                                                engineer  \n",
       "0101011                                        software engineer  \n",
       "...                                                          ...  \n",
       "yysu           aws certified all 5 familiar with python conta...  \n",
       "yysu           aws certified all 5 familiar with python conta...  \n",
       "zhouzi         software engineer with a passion for user expe...  \n",
       "zhukovgreen                           software and data engineer  \n",
       "zomervinicius  flutter react react native node graphql typesc...  \n",
       "\n",
       "[33284 rows x 7 columns]"
      ]
     },
     "execution_count": 42,
     "metadata": {},
     "output_type": "execute_result"
    }
   ],
   "source": [
    "labels.merge(bios, left_index=True, right_index=True)"
   ]
  },
  {
   "cell_type": "code",
   "execution_count": 50,
   "id": "859595f7",
   "metadata": {},
   "outputs": [],
   "source": [
    "labeled_users = labels[labels.sum(axis=1) > 0]"
   ]
  },
  {
   "cell_type": "code",
   "execution_count": 51,
   "id": "4db4e5e8",
   "metadata": {},
   "outputs": [
    {
     "data": {
      "text/html": [
       "<div>\n",
       "<style scoped>\n",
       "    .dataframe tbody tr th:only-of-type {\n",
       "        vertical-align: middle;\n",
       "    }\n",
       "\n",
       "    .dataframe tbody tr th {\n",
       "        vertical-align: top;\n",
       "    }\n",
       "\n",
       "    .dataframe thead th {\n",
       "        text-align: right;\n",
       "    }\n",
       "</style>\n",
       "<table border=\"1\" class=\"dataframe\">\n",
       "  <thead>\n",
       "    <tr style=\"text-align: right;\">\n",
       "      <th></th>\n",
       "      <th>Web Developer</th>\n",
       "      <th>Mobile Developer</th>\n",
       "      <th>Machine Learning Engineer</th>\n",
       "      <th>Data Engineer</th>\n",
       "      <th>Data Scientist</th>\n",
       "      <th>UI/UX Developer</th>\n",
       "    </tr>\n",
       "    <tr>\n",
       "      <th>login</th>\n",
       "      <th></th>\n",
       "      <th></th>\n",
       "      <th></th>\n",
       "      <th></th>\n",
       "      <th></th>\n",
       "      <th></th>\n",
       "    </tr>\n",
       "  </thead>\n",
       "  <tbody>\n",
       "    <tr>\n",
       "      <th>juankuquintana</th>\n",
       "      <td>1</td>\n",
       "      <td>0</td>\n",
       "      <td>0</td>\n",
       "      <td>0</td>\n",
       "      <td>0</td>\n",
       "      <td>0</td>\n",
       "    </tr>\n",
       "    <tr>\n",
       "      <th>josete89</th>\n",
       "      <td>0</td>\n",
       "      <td>1</td>\n",
       "      <td>1</td>\n",
       "      <td>0</td>\n",
       "      <td>0</td>\n",
       "      <td>0</td>\n",
       "    </tr>\n",
       "    <tr>\n",
       "      <th>addappcn</th>\n",
       "      <td>0</td>\n",
       "      <td>1</td>\n",
       "      <td>0</td>\n",
       "      <td>0</td>\n",
       "      <td>0</td>\n",
       "      <td>0</td>\n",
       "    </tr>\n",
       "    <tr>\n",
       "      <th>mavisland</th>\n",
       "      <td>1</td>\n",
       "      <td>0</td>\n",
       "      <td>0</td>\n",
       "      <td>0</td>\n",
       "      <td>0</td>\n",
       "      <td>0</td>\n",
       "    </tr>\n",
       "    <tr>\n",
       "      <th>babakasse</th>\n",
       "      <td>0</td>\n",
       "      <td>0</td>\n",
       "      <td>1</td>\n",
       "      <td>0</td>\n",
       "      <td>0</td>\n",
       "      <td>0</td>\n",
       "    </tr>\n",
       "    <tr>\n",
       "      <th>...</th>\n",
       "      <td>...</td>\n",
       "      <td>...</td>\n",
       "      <td>...</td>\n",
       "      <td>...</td>\n",
       "      <td>...</td>\n",
       "      <td>...</td>\n",
       "    </tr>\n",
       "    <tr>\n",
       "      <th>fredwu</th>\n",
       "      <td>0</td>\n",
       "      <td>0</td>\n",
       "      <td>1</td>\n",
       "      <td>0</td>\n",
       "      <td>0</td>\n",
       "      <td>0</td>\n",
       "    </tr>\n",
       "    <tr>\n",
       "      <th>danielpetrica</th>\n",
       "      <td>1</td>\n",
       "      <td>0</td>\n",
       "      <td>1</td>\n",
       "      <td>0</td>\n",
       "      <td>0</td>\n",
       "      <td>0</td>\n",
       "    </tr>\n",
       "    <tr>\n",
       "      <th>gulullu</th>\n",
       "      <td>1</td>\n",
       "      <td>0</td>\n",
       "      <td>0</td>\n",
       "      <td>0</td>\n",
       "      <td>0</td>\n",
       "      <td>0</td>\n",
       "    </tr>\n",
       "    <tr>\n",
       "      <th>jikkujose</th>\n",
       "      <td>0</td>\n",
       "      <td>0</td>\n",
       "      <td>1</td>\n",
       "      <td>0</td>\n",
       "      <td>0</td>\n",
       "      <td>0</td>\n",
       "    </tr>\n",
       "    <tr>\n",
       "      <th>mouadziani</th>\n",
       "      <td>0</td>\n",
       "      <td>0</td>\n",
       "      <td>1</td>\n",
       "      <td>0</td>\n",
       "      <td>0</td>\n",
       "      <td>0</td>\n",
       "    </tr>\n",
       "  </tbody>\n",
       "</table>\n",
       "<p>8871 rows × 6 columns</p>\n",
       "</div>"
      ],
      "text/plain": [
       "                Web Developer  Mobile Developer  Machine Learning Engineer  \\\n",
       "login                                                                        \n",
       "juankuquintana              1                 0                          0   \n",
       "josete89                    0                 1                          1   \n",
       "addappcn                    0                 1                          0   \n",
       "mavisland                   1                 0                          0   \n",
       "babakasse                   0                 0                          1   \n",
       "...                       ...               ...                        ...   \n",
       "fredwu                      0                 0                          1   \n",
       "danielpetrica               1                 0                          1   \n",
       "gulullu                     1                 0                          0   \n",
       "jikkujose                   0                 0                          1   \n",
       "mouadziani                  0                 0                          1   \n",
       "\n",
       "                Data Engineer  Data Scientist  UI/UX Developer  \n",
       "login                                                           \n",
       "juankuquintana              0               0                0  \n",
       "josete89                    0               0                0  \n",
       "addappcn                    0               0                0  \n",
       "mavisland                   0               0                0  \n",
       "babakasse                   0               0                0  \n",
       "...                       ...             ...              ...  \n",
       "fredwu                      0               0                0  \n",
       "danielpetrica               0               0                0  \n",
       "gulullu                     0               0                0  \n",
       "jikkujose                   0               0                0  \n",
       "mouadziani                  0               0                0  \n",
       "\n",
       "[8871 rows x 6 columns]"
      ]
     },
     "execution_count": 51,
     "metadata": {},
     "output_type": "execute_result"
    }
   ],
   "source": [
    "labeled_users"
   ]
  },
  {
   "cell_type": "code",
   "execution_count": 52,
   "id": "548ccc63",
   "metadata": {},
   "outputs": [
    {
     "data": {
      "text/plain": [
       "Web Developer                3449\n",
       "Mobile Developer             1186\n",
       "Machine Learning Engineer    4357\n",
       "Data Engineer                 156\n",
       "Data Scientist                478\n",
       "UI/UX Developer               112\n",
       "dtype: int64"
      ]
     },
     "execution_count": 52,
     "metadata": {},
     "output_type": "execute_result"
    }
   ],
   "source": [
    "labeled_users.sum(axis=0)"
   ]
  },
  {
   "cell_type": "code",
   "execution_count": 46,
   "id": "0bb4fd33",
   "metadata": {},
   "outputs": [
    {
     "data": {
      "text/html": [
       "<div>\n",
       "<style scoped>\n",
       "    .dataframe tbody tr th:only-of-type {\n",
       "        vertical-align: middle;\n",
       "    }\n",
       "\n",
       "    .dataframe tbody tr th {\n",
       "        vertical-align: top;\n",
       "    }\n",
       "\n",
       "    .dataframe thead th {\n",
       "        text-align: right;\n",
       "    }\n",
       "</style>\n",
       "<table border=\"1\" class=\"dataframe\">\n",
       "  <thead>\n",
       "    <tr style=\"text-align: right;\">\n",
       "      <th></th>\n",
       "      <th>Web Developer</th>\n",
       "      <th>Mobile Developer</th>\n",
       "      <th>Machine Learning Engineer</th>\n",
       "      <th>Data Engineer</th>\n",
       "      <th>Data Scientist</th>\n",
       "      <th>UI/UX Developer</th>\n",
       "    </tr>\n",
       "    <tr>\n",
       "      <th>login</th>\n",
       "      <th></th>\n",
       "      <th></th>\n",
       "      <th></th>\n",
       "      <th></th>\n",
       "      <th></th>\n",
       "      <th></th>\n",
       "    </tr>\n",
       "  </thead>\n",
       "  <tbody>\n",
       "    <tr>\n",
       "      <th>juankuquintana</th>\n",
       "      <td>1</td>\n",
       "      <td>0</td>\n",
       "      <td>0</td>\n",
       "      <td>0</td>\n",
       "      <td>0</td>\n",
       "      <td>0</td>\n",
       "    </tr>\n",
       "    <tr>\n",
       "      <th>josete89</th>\n",
       "      <td>0</td>\n",
       "      <td>1</td>\n",
       "      <td>1</td>\n",
       "      <td>0</td>\n",
       "      <td>0</td>\n",
       "      <td>0</td>\n",
       "    </tr>\n",
       "    <tr>\n",
       "      <th>addappcn</th>\n",
       "      <td>0</td>\n",
       "      <td>1</td>\n",
       "      <td>0</td>\n",
       "      <td>0</td>\n",
       "      <td>0</td>\n",
       "      <td>0</td>\n",
       "    </tr>\n",
       "    <tr>\n",
       "      <th>mavisland</th>\n",
       "      <td>1</td>\n",
       "      <td>0</td>\n",
       "      <td>0</td>\n",
       "      <td>0</td>\n",
       "      <td>0</td>\n",
       "      <td>0</td>\n",
       "    </tr>\n",
       "    <tr>\n",
       "      <th>babakasse</th>\n",
       "      <td>0</td>\n",
       "      <td>0</td>\n",
       "      <td>1</td>\n",
       "      <td>0</td>\n",
       "      <td>0</td>\n",
       "      <td>0</td>\n",
       "    </tr>\n",
       "    <tr>\n",
       "      <th>...</th>\n",
       "      <td>...</td>\n",
       "      <td>...</td>\n",
       "      <td>...</td>\n",
       "      <td>...</td>\n",
       "      <td>...</td>\n",
       "      <td>...</td>\n",
       "    </tr>\n",
       "    <tr>\n",
       "      <th>fredwu</th>\n",
       "      <td>0</td>\n",
       "      <td>0</td>\n",
       "      <td>1</td>\n",
       "      <td>0</td>\n",
       "      <td>0</td>\n",
       "      <td>0</td>\n",
       "    </tr>\n",
       "    <tr>\n",
       "      <th>danielpetrica</th>\n",
       "      <td>1</td>\n",
       "      <td>0</td>\n",
       "      <td>1</td>\n",
       "      <td>0</td>\n",
       "      <td>0</td>\n",
       "      <td>0</td>\n",
       "    </tr>\n",
       "    <tr>\n",
       "      <th>gulullu</th>\n",
       "      <td>1</td>\n",
       "      <td>0</td>\n",
       "      <td>0</td>\n",
       "      <td>0</td>\n",
       "      <td>0</td>\n",
       "      <td>0</td>\n",
       "    </tr>\n",
       "    <tr>\n",
       "      <th>jikkujose</th>\n",
       "      <td>0</td>\n",
       "      <td>0</td>\n",
       "      <td>1</td>\n",
       "      <td>0</td>\n",
       "      <td>0</td>\n",
       "      <td>0</td>\n",
       "    </tr>\n",
       "    <tr>\n",
       "      <th>mouadziani</th>\n",
       "      <td>0</td>\n",
       "      <td>0</td>\n",
       "      <td>1</td>\n",
       "      <td>0</td>\n",
       "      <td>0</td>\n",
       "      <td>0</td>\n",
       "    </tr>\n",
       "  </tbody>\n",
       "</table>\n",
       "<p>8871 rows × 6 columns</p>\n",
       "</div>"
      ],
      "text/plain": [
       "                Web Developer  Mobile Developer  Machine Learning Engineer  \\\n",
       "login                                                                        \n",
       "juankuquintana              1                 0                          0   \n",
       "josete89                    0                 1                          1   \n",
       "addappcn                    0                 1                          0   \n",
       "mavisland                   1                 0                          0   \n",
       "babakasse                   0                 0                          1   \n",
       "...                       ...               ...                        ...   \n",
       "fredwu                      0                 0                          1   \n",
       "danielpetrica               1                 0                          1   \n",
       "gulullu                     1                 0                          0   \n",
       "jikkujose                   0                 0                          1   \n",
       "mouadziani                  0                 0                          1   \n",
       "\n",
       "                Data Engineer  Data Scientist  UI/UX Developer  \n",
       "login                                                           \n",
       "juankuquintana              0               0                0  \n",
       "josete89                    0               0                0  \n",
       "addappcn                    0               0                0  \n",
       "mavisland                   0               0                0  \n",
       "babakasse                   0               0                0  \n",
       "...                       ...             ...              ...  \n",
       "fredwu                      0               0                0  \n",
       "danielpetrica               0               0                0  \n",
       "gulullu                     0               0                0  \n",
       "jikkujose                   0               0                0  \n",
       "mouadziani                  0               0                0  \n",
       "\n",
       "[8871 rows x 6 columns]"
      ]
     },
     "execution_count": 46,
     "metadata": {},
     "output_type": "execute_result"
    }
   ],
   "source": [
    "labeled_users"
   ]
  },
  {
   "cell_type": "code",
   "execution_count": 53,
   "id": "0deb3f39",
   "metadata": {},
   "outputs": [],
   "source": [
    "labeled_users = labeled_users[~labeled_users.index.duplicated(keep='first')]"
   ]
  },
  {
   "cell_type": "code",
   "execution_count": 54,
   "id": "dd167c11",
   "metadata": {},
   "outputs": [],
   "source": [
    "labeled_users.to_csv(cfg.USER_LABELS_FILE)"
   ]
  },
  {
   "cell_type": "code",
   "execution_count": 55,
   "id": "f2832933",
   "metadata": {},
   "outputs": [
    {
     "data": {
      "text/plain": [
       "login\n",
       "juankuquintana    1\n",
       "addappcn          1\n",
       "mavisland         1\n",
       "babakasse         1\n",
       "jlcallalle        1\n",
       "                 ..\n",
       "chenshun00        1\n",
       "tak1n             1\n",
       "fredwu            1\n",
       "gulullu           1\n",
       "mouadziani        1\n",
       "Length: 8037, dtype: int64"
      ]
     },
     "execution_count": 55,
     "metadata": {},
     "output_type": "execute_result"
    }
   ],
   "source": [
    "label_counts = labeled_users.sum(axis=1)\n",
    "label_counts[label_counts == 1]"
   ]
  },
  {
   "cell_type": "code",
   "execution_count": 56,
   "id": "872303cd",
   "metadata": {},
   "outputs": [
    {
     "data": {
      "text/plain": [
       "login\n",
       "josete89         2\n",
       "justmeshishir    2\n",
       "iwitaly          2\n",
       "mraible          2\n",
       "Concert0         2\n",
       "                ..\n",
       "flyingant        2\n",
       "mhink            2\n",
       "mikevocalz       2\n",
       "jiangzhongkai    2\n",
       "danielpetrica    2\n",
       "Length: 794, dtype: int64"
      ]
     },
     "execution_count": 56,
     "metadata": {},
     "output_type": "execute_result"
    }
   ],
   "source": [
    "label_counts[label_counts == 2]"
   ]
  },
  {
   "cell_type": "code",
   "execution_count": 57,
   "id": "7173578d",
   "metadata": {},
   "outputs": [
    {
     "data": {
      "text/plain": [
       "login\n",
       "MinDBreaK           3\n",
       "liangfeidotme       3\n",
       "hjJunior            3\n",
       "EvertonTomalok      3\n",
       "Hamza5              3\n",
       "spidergears         3\n",
       "dimpurr             3\n",
       "megatux             3\n",
       "nishankbhati        3\n",
       "abinj               3\n",
       "peterfei            3\n",
       "ksopyla             3\n",
       "Anwesh43            3\n",
       "sebastianconcept    3\n",
       "Aries0d0f           3\n",
       "Bharathbrothers     3\n",
       "dgfigueroa29        3\n",
       "ankurp              3\n",
       "chikaobuah          3\n",
       "jasonsaayman        3\n",
       "mrhieu              3\n",
       "nimomeng            3\n",
       "ErickPetru          3\n",
       "ramshid             3\n",
       "arora-72            3\n",
       "fancyfrees          3\n",
       "TejasBhalerao       3\n",
       "itinance            3\n",
       "Muhammad7Salah      3\n",
       "joaodaher           3\n",
       "tgrrr               3\n",
       "rahulkumaran        3\n",
       "Froyo91             3\n",
       "dtype: int64"
      ]
     },
     "execution_count": 57,
     "metadata": {},
     "output_type": "execute_result"
    }
   ],
   "source": [
    "label_counts[label_counts == 3]"
   ]
  },
  {
   "cell_type": "code",
   "execution_count": null,
   "id": "20c387ce",
   "metadata": {},
   "outputs": [],
   "source": []
  },
  {
   "cell_type": "code",
   "execution_count": 58,
   "id": "79c52053",
   "metadata": {},
   "outputs": [
    {
     "data": {
      "text/plain": [
       "login\n",
       "VakinduPhilliam    node js backend frontend developer react ui ux...\n",
       "ssekuwanda         pythonista data scientist ml ai django web dev...\n",
       "Name: bio, dtype: object"
      ]
     },
     "execution_count": 58,
     "metadata": {},
     "output_type": "execute_result"
    }
   ],
   "source": [
    "bios.loc[label_counts[label_counts == 4].index]"
   ]
  },
  {
   "cell_type": "code",
   "execution_count": 60,
   "id": "6e097713",
   "metadata": {},
   "outputs": [
    {
     "data": {
      "text/plain": [
       "'node js backend frontend developer react ui ux flutter restful apis java python django ai javascript postgresql blockchain golang scala akka iot'"
      ]
     },
     "execution_count": 60,
     "metadata": {},
     "output_type": "execute_result"
    }
   ],
   "source": [
    "bios.loc['VakinduPhilliam']"
   ]
  },
  {
   "cell_type": "code",
   "execution_count": null,
   "id": "b2e18818",
   "metadata": {},
   "outputs": [],
   "source": []
  },
  {
   "cell_type": "code",
   "execution_count": null,
   "id": "841164e0",
   "metadata": {},
   "outputs": [],
   "source": []
  },
  {
   "cell_type": "code",
   "execution_count": null,
   "id": "7e65e392",
   "metadata": {},
   "outputs": [],
   "source": []
  },
  {
   "cell_type": "code",
   "execution_count": null,
   "id": "e4b90b65",
   "metadata": {},
   "outputs": [],
   "source": []
  },
  {
   "cell_type": "code",
   "execution_count": null,
   "id": "2bc41eba",
   "metadata": {},
   "outputs": [],
   "source": []
  },
  {
   "cell_type": "code",
   "execution_count": null,
   "id": "eee0c2ac",
   "metadata": {},
   "outputs": [],
   "source": []
  }
 ],
 "metadata": {
  "kernelspec": {
   "display_name": "Python 3.10.6 ('.env': venv)",
   "language": "python",
   "name": "python3"
  },
  "language_info": {
   "codemirror_mode": {
    "name": "ipython",
    "version": 3
   },
   "file_extension": ".py",
   "mimetype": "text/x-python",
   "name": "python",
   "nbconvert_exporter": "python",
   "pygments_lexer": "ipython3",
   "version": "3.10.6"
  },
  "vscode": {
   "interpreter": {
    "hash": "7fb3b9acd036f0bb40a19178a4a4e0c104f45e4cf2c749b0af2e81dcdbc701d9"
   }
  }
 },
 "nbformat": 4,
 "nbformat_minor": 5
}
